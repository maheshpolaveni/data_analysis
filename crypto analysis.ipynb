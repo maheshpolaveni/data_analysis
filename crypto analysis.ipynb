{
 "cells": [
  {
   "cell_type": "code",
   "execution_count": 1,
   "id": "3f6c55a3",
   "metadata": {},
   "outputs": [],
   "source": [
    "import pandas as pd\n",
    "import numpy as np\n",
    "import matplotlib.pyplot as plt\n",
    "import seaborn as sns"
   ]
  },
  {
   "cell_type": "code",
   "execution_count": 2,
   "id": "118cd52b",
   "metadata": {},
   "outputs": [],
   "source": [
    "df=pd.read_csv(r'C:\\Users\\Dell\\Downloads\\TRADES_CopyTr_90D_ROI.csv')"
   ]
  },
  {
   "cell_type": "code",
   "execution_count": 3,
   "id": "f203320e",
   "metadata": {},
   "outputs": [
    {
     "data": {
      "text/html": [
       "<div>\n",
       "<style scoped>\n",
       "    .dataframe tbody tr th:only-of-type {\n",
       "        vertical-align: middle;\n",
       "    }\n",
       "\n",
       "    .dataframe tbody tr th {\n",
       "        vertical-align: top;\n",
       "    }\n",
       "\n",
       "    .dataframe thead th {\n",
       "        text-align: right;\n",
       "    }\n",
       "</style>\n",
       "<table border=\"1\" class=\"dataframe\">\n",
       "  <thead>\n",
       "    <tr style=\"text-align: right;\">\n",
       "      <th></th>\n",
       "      <th>Port_IDs</th>\n",
       "      <th>Trade_History</th>\n",
       "    </tr>\n",
       "  </thead>\n",
       "  <tbody>\n",
       "    <tr>\n",
       "      <th>0</th>\n",
       "      <td>3925368433214965504</td>\n",
       "      <td>[{'time': 1718899656000, 'symbol': 'SOLUSDT', ...</td>\n",
       "    </tr>\n",
       "    <tr>\n",
       "      <th>1</th>\n",
       "      <td>4002413037164645377</td>\n",
       "      <td>[{'time': 1718980078000, 'symbol': 'NEARUSDT',...</td>\n",
       "    </tr>\n",
       "    <tr>\n",
       "      <th>2</th>\n",
       "      <td>3923766029921022977</td>\n",
       "      <td>[{'time': 1718677164000, 'symbol': 'ETHUSDT', ...</td>\n",
       "    </tr>\n",
       "    <tr>\n",
       "      <th>3</th>\n",
       "      <td>3994879592543698688</td>\n",
       "      <td>[{'time': 1718678214000, 'symbol': 'ETHUSDT', ...</td>\n",
       "    </tr>\n",
       "    <tr>\n",
       "      <th>4</th>\n",
       "      <td>3926423286576838657</td>\n",
       "      <td>[{'time': 1718979615000, 'symbol': 'ETHUSDT', ...</td>\n",
       "    </tr>\n",
       "  </tbody>\n",
       "</table>\n",
       "</div>"
      ],
      "text/plain": [
       "              Port_IDs                                      Trade_History\n",
       "0  3925368433214965504  [{'time': 1718899656000, 'symbol': 'SOLUSDT', ...\n",
       "1  4002413037164645377  [{'time': 1718980078000, 'symbol': 'NEARUSDT',...\n",
       "2  3923766029921022977  [{'time': 1718677164000, 'symbol': 'ETHUSDT', ...\n",
       "3  3994879592543698688  [{'time': 1718678214000, 'symbol': 'ETHUSDT', ...\n",
       "4  3926423286576838657  [{'time': 1718979615000, 'symbol': 'ETHUSDT', ..."
      ]
     },
     "execution_count": 3,
     "metadata": {},
     "output_type": "execute_result"
    }
   ],
   "source": [
    "df.head()"
   ]
  },
  {
   "cell_type": "code",
   "execution_count": 4,
   "id": "7ada8f8e",
   "metadata": {},
   "outputs": [],
   "source": [
    "import ast"
   ]
  },
  {
   "cell_type": "code",
   "execution_count": 5,
   "id": "627591f6",
   "metadata": {},
   "outputs": [
    {
     "name": "stdout",
     "output_type": "stream",
     "text": [
      "              Port_IDs          time    symbol side      price       fee  \\\n",
      "0  3925368433214965504  1.718900e+12   SOLUSDT  BUY  132.53700 -0.994027   \n",
      "1  3925368433214965504  1.718900e+12  DOGEUSDT  BUY    0.12182 -0.279796   \n",
      "2  3925368433214965504  1.718900e+12  DOGEUSDT  BUY    0.12182 -0.039494   \n",
      "3  3925368433214965504  1.718900e+12  DOGEUSDT  BUY    0.12182 -0.008284   \n",
      "4  3925368433214965504  1.718900e+12  DOGEUSDT  BUY    0.12182 -0.046109   \n",
      "\n",
      "  feeAsset    quantity quantityAsset  realizedProfit realizedProfitAsset  \\\n",
      "0     USDT  1988.05500          USDT             0.0                USDT   \n",
      "1     USDT  1398.98088          USDT             0.0                USDT   \n",
      "2     USDT   197.47022          USDT             0.0                USDT   \n",
      "3     USDT    16.56752          USDT             0.0                USDT   \n",
      "4     USDT    92.21774          USDT             0.0                USDT   \n",
      "\n",
      "  baseAsset      qty positionSide activeBuy  \n",
      "0       SOL     15.0         LONG      True  \n",
      "1      DOGE  11484.0         LONG     False  \n",
      "2      DOGE   1621.0         LONG     False  \n",
      "3      DOGE    136.0         LONG      True  \n",
      "4      DOGE    757.0         LONG      True  \n"
     ]
    }
   ],
   "source": [
    "# Ensure Trade_History is parsed from strings to Python objects\n",
    "df['Trade_History'] = df['Trade_History'].dropna().apply(ast.literal_eval)\n",
    "\n",
    "# Expand Trade_History into a structured DataFrame\n",
    "expanded_data = df.explode('Trade_History')  # Split list into rows\n",
    "expanded_data = expanded_data.reset_index(drop=True)\n",
    "\n",
    "# Extract details from each trade into individual columns\n",
    "expanded_data = pd.concat(\n",
    "    [expanded_data.drop(columns=['Trade_History']),\n",
    "     pd.json_normalize(expanded_data['Trade_History'])],\n",
    "    axis=1\n",
    ")\n",
    "\n",
    "# Display the first few rows of the expanded DataFrame\n",
    "print(expanded_data.head())\n",
    "\n",
    "# Save to CSV for reference\n",
    "expanded_data.to_csv('expanded_trade_history.csv', index=False)"
   ]
  },
  {
   "cell_type": "code",
   "execution_count": 6,
   "id": "418495dc",
   "metadata": {},
   "outputs": [
    {
     "name": "stdout",
     "output_type": "stream",
     "text": [
      "              Port_IDs          time    symbol side      price       fee  \\\n",
      "0  3925368433214965504  1.718900e+12   SOLUSDT  BUY  132.53700 -0.994027   \n",
      "1  3925368433214965504  1.718900e+12  DOGEUSDT  BUY    0.12182 -0.279796   \n",
      "2  3925368433214965504  1.718900e+12  DOGEUSDT  BUY    0.12182 -0.039494   \n",
      "3  3925368433214965504  1.718900e+12  DOGEUSDT  BUY    0.12182 -0.008284   \n",
      "4  3925368433214965504  1.718900e+12  DOGEUSDT  BUY    0.12182 -0.046109   \n",
      "\n",
      "  feeAsset    quantity quantityAsset  realizedProfit realizedProfitAsset  \\\n",
      "0     USDT  1988.05500          USDT             0.0                USDT   \n",
      "1     USDT  1398.98088          USDT             0.0                USDT   \n",
      "2     USDT   197.47022          USDT             0.0                USDT   \n",
      "3     USDT    16.56752          USDT             0.0                USDT   \n",
      "4     USDT    92.21774          USDT             0.0                USDT   \n",
      "\n",
      "  baseAsset      qty positionSide activeBuy  \n",
      "0       SOL     15.0         LONG      True  \n",
      "1      DOGE  11484.0         LONG     False  \n",
      "2      DOGE   1621.0         LONG     False  \n",
      "3      DOGE    136.0         LONG      True  \n",
      "4      DOGE    757.0         LONG      True  \n"
     ]
    }
   ],
   "source": [
    "original_data = df[['Port_IDs']]\n",
    "\n",
    "# Merge the original data with the expanded data on Port_IDs\n",
    "merged_data = pd.merge(original_data, expanded_data, on='Port_IDs', how='right')\n",
    "\n",
    "# Display the first few rows of the merged DataFrame\n",
    "print(merged_data.head())\n",
    "\n",
    "# Save the merged DataFrame to a CSV file\n",
    "merged_data.to_csv('merged_trade_history.csv', index=False)\n"
   ]
  },
  {
   "cell_type": "code",
   "execution_count": 7,
   "id": "8f147250",
   "metadata": {},
   "outputs": [
    {
     "data": {
      "text/html": [
       "<div>\n",
       "<style scoped>\n",
       "    .dataframe tbody tr th:only-of-type {\n",
       "        vertical-align: middle;\n",
       "    }\n",
       "\n",
       "    .dataframe tbody tr th {\n",
       "        vertical-align: top;\n",
       "    }\n",
       "\n",
       "    .dataframe thead th {\n",
       "        text-align: right;\n",
       "    }\n",
       "</style>\n",
       "<table border=\"1\" class=\"dataframe\">\n",
       "  <thead>\n",
       "    <tr style=\"text-align: right;\">\n",
       "      <th></th>\n",
       "      <th>Port_IDs</th>\n",
       "      <th>time</th>\n",
       "      <th>symbol</th>\n",
       "      <th>side</th>\n",
       "      <th>price</th>\n",
       "      <th>fee</th>\n",
       "      <th>feeAsset</th>\n",
       "      <th>quantity</th>\n",
       "      <th>quantityAsset</th>\n",
       "      <th>realizedProfit</th>\n",
       "      <th>realizedProfitAsset</th>\n",
       "      <th>baseAsset</th>\n",
       "      <th>qty</th>\n",
       "      <th>positionSide</th>\n",
       "      <th>activeBuy</th>\n",
       "    </tr>\n",
       "  </thead>\n",
       "  <tbody>\n",
       "    <tr>\n",
       "      <th>0</th>\n",
       "      <td>3925368433214965504</td>\n",
       "      <td>1.718900e+12</td>\n",
       "      <td>SOLUSDT</td>\n",
       "      <td>BUY</td>\n",
       "      <td>132.53700</td>\n",
       "      <td>-0.994027</td>\n",
       "      <td>USDT</td>\n",
       "      <td>1988.05500</td>\n",
       "      <td>USDT</td>\n",
       "      <td>0.0</td>\n",
       "      <td>USDT</td>\n",
       "      <td>SOL</td>\n",
       "      <td>15.0</td>\n",
       "      <td>LONG</td>\n",
       "      <td>True</td>\n",
       "    </tr>\n",
       "    <tr>\n",
       "      <th>1</th>\n",
       "      <td>3925368433214965504</td>\n",
       "      <td>1.718900e+12</td>\n",
       "      <td>DOGEUSDT</td>\n",
       "      <td>BUY</td>\n",
       "      <td>0.12182</td>\n",
       "      <td>-0.279796</td>\n",
       "      <td>USDT</td>\n",
       "      <td>1398.98088</td>\n",
       "      <td>USDT</td>\n",
       "      <td>0.0</td>\n",
       "      <td>USDT</td>\n",
       "      <td>DOGE</td>\n",
       "      <td>11484.0</td>\n",
       "      <td>LONG</td>\n",
       "      <td>False</td>\n",
       "    </tr>\n",
       "    <tr>\n",
       "      <th>2</th>\n",
       "      <td>3925368433214965504</td>\n",
       "      <td>1.718900e+12</td>\n",
       "      <td>DOGEUSDT</td>\n",
       "      <td>BUY</td>\n",
       "      <td>0.12182</td>\n",
       "      <td>-0.039494</td>\n",
       "      <td>USDT</td>\n",
       "      <td>197.47022</td>\n",
       "      <td>USDT</td>\n",
       "      <td>0.0</td>\n",
       "      <td>USDT</td>\n",
       "      <td>DOGE</td>\n",
       "      <td>1621.0</td>\n",
       "      <td>LONG</td>\n",
       "      <td>False</td>\n",
       "    </tr>\n",
       "    <tr>\n",
       "      <th>3</th>\n",
       "      <td>3925368433214965504</td>\n",
       "      <td>1.718900e+12</td>\n",
       "      <td>DOGEUSDT</td>\n",
       "      <td>BUY</td>\n",
       "      <td>0.12182</td>\n",
       "      <td>-0.008284</td>\n",
       "      <td>USDT</td>\n",
       "      <td>16.56752</td>\n",
       "      <td>USDT</td>\n",
       "      <td>0.0</td>\n",
       "      <td>USDT</td>\n",
       "      <td>DOGE</td>\n",
       "      <td>136.0</td>\n",
       "      <td>LONG</td>\n",
       "      <td>True</td>\n",
       "    </tr>\n",
       "    <tr>\n",
       "      <th>4</th>\n",
       "      <td>3925368433214965504</td>\n",
       "      <td>1.718900e+12</td>\n",
       "      <td>DOGEUSDT</td>\n",
       "      <td>BUY</td>\n",
       "      <td>0.12182</td>\n",
       "      <td>-0.046109</td>\n",
       "      <td>USDT</td>\n",
       "      <td>92.21774</td>\n",
       "      <td>USDT</td>\n",
       "      <td>0.0</td>\n",
       "      <td>USDT</td>\n",
       "      <td>DOGE</td>\n",
       "      <td>757.0</td>\n",
       "      <td>LONG</td>\n",
       "      <td>True</td>\n",
       "    </tr>\n",
       "  </tbody>\n",
       "</table>\n",
       "</div>"
      ],
      "text/plain": [
       "              Port_IDs          time    symbol side      price       fee  \\\n",
       "0  3925368433214965504  1.718900e+12   SOLUSDT  BUY  132.53700 -0.994027   \n",
       "1  3925368433214965504  1.718900e+12  DOGEUSDT  BUY    0.12182 -0.279796   \n",
       "2  3925368433214965504  1.718900e+12  DOGEUSDT  BUY    0.12182 -0.039494   \n",
       "3  3925368433214965504  1.718900e+12  DOGEUSDT  BUY    0.12182 -0.008284   \n",
       "4  3925368433214965504  1.718900e+12  DOGEUSDT  BUY    0.12182 -0.046109   \n",
       "\n",
       "  feeAsset    quantity quantityAsset  realizedProfit realizedProfitAsset  \\\n",
       "0     USDT  1988.05500          USDT             0.0                USDT   \n",
       "1     USDT  1398.98088          USDT             0.0                USDT   \n",
       "2     USDT   197.47022          USDT             0.0                USDT   \n",
       "3     USDT    16.56752          USDT             0.0                USDT   \n",
       "4     USDT    92.21774          USDT             0.0                USDT   \n",
       "\n",
       "  baseAsset      qty positionSide activeBuy  \n",
       "0       SOL     15.0         LONG      True  \n",
       "1      DOGE  11484.0         LONG     False  \n",
       "2      DOGE   1621.0         LONG     False  \n",
       "3      DOGE    136.0         LONG      True  \n",
       "4      DOGE    757.0         LONG      True  "
      ]
     },
     "execution_count": 7,
     "metadata": {},
     "output_type": "execute_result"
    }
   ],
   "source": [
    "merged_data.head()"
   ]
  },
  {
   "cell_type": "code",
   "execution_count": 8,
   "id": "bcd34c06",
   "metadata": {},
   "outputs": [
    {
     "data": {
      "text/plain": [
       "(211278, 15)"
      ]
     },
     "execution_count": 8,
     "metadata": {},
     "output_type": "execute_result"
    }
   ],
   "source": [
    "merged_data.shape"
   ]
  },
  {
   "cell_type": "code",
   "execution_count": 9,
   "id": "f0c17348",
   "metadata": {},
   "outputs": [
    {
     "data": {
      "text/plain": [
       "Port_IDs               0\n",
       "time                   1\n",
       "symbol                 1\n",
       "side                   1\n",
       "price                  1\n",
       "fee                    1\n",
       "feeAsset               1\n",
       "quantity               1\n",
       "quantityAsset          1\n",
       "realizedProfit         1\n",
       "realizedProfitAsset    1\n",
       "baseAsset              1\n",
       "qty                    1\n",
       "positionSide           1\n",
       "activeBuy              1\n",
       "dtype: int64"
      ]
     },
     "execution_count": 9,
     "metadata": {},
     "output_type": "execute_result"
    }
   ],
   "source": [
    "merged_data.isna().sum()"
   ]
  },
  {
   "cell_type": "code",
   "execution_count": 10,
   "id": "c6c3ba60",
   "metadata": {},
   "outputs": [],
   "source": [
    "merged_data.dropna(axis=0,inplace=True)"
   ]
  },
  {
   "cell_type": "code",
   "execution_count": 11,
   "id": "79566bbc",
   "metadata": {},
   "outputs": [
    {
     "name": "stdout",
     "output_type": "stream",
     "text": [
      "<class 'pandas.core.frame.DataFrame'>\n",
      "Int64Index: 211277 entries, 0 to 211277\n",
      "Data columns (total 15 columns):\n",
      " #   Column               Non-Null Count   Dtype  \n",
      "---  ------               --------------   -----  \n",
      " 0   Port_IDs             211277 non-null  int64  \n",
      " 1   time                 211277 non-null  float64\n",
      " 2   symbol               211277 non-null  object \n",
      " 3   side                 211277 non-null  object \n",
      " 4   price                211277 non-null  float64\n",
      " 5   fee                  211277 non-null  float64\n",
      " 6   feeAsset             211277 non-null  object \n",
      " 7   quantity             211277 non-null  float64\n",
      " 8   quantityAsset        211277 non-null  object \n",
      " 9   realizedProfit       211277 non-null  float64\n",
      " 10  realizedProfitAsset  211277 non-null  object \n",
      " 11  baseAsset            211277 non-null  object \n",
      " 12  qty                  211277 non-null  float64\n",
      " 13  positionSide         211277 non-null  object \n",
      " 14  activeBuy            211277 non-null  object \n",
      "dtypes: float64(6), int64(1), object(8)\n",
      "memory usage: 25.8+ MB\n"
     ]
    }
   ],
   "source": [
    "merged_data.info()"
   ]
  },
  {
   "cell_type": "code",
   "execution_count": 12,
   "id": "1c996d5c",
   "metadata": {},
   "outputs": [],
   "source": [
    "# Handle missing and incorrect values\n",
    "# Drop rows with missing time values and convert to datetime format\n",
    "merged_data = merged_data.dropna(subset=['time'])\n",
    "merged_data['time'] = pd.to_datetime(merged_data['time'], unit='ms')"
   ]
  },
  {
   "cell_type": "code",
   "execution_count": 13,
   "id": "af77d652",
   "metadata": {},
   "outputs": [],
   "source": [
    "# Ensure 'realizedProfit' is numeric\n",
    "merged_data['realizedProfit'] = pd.to_numeric(merged_data['realizedProfit'], errors='coerce').fillna(0)"
   ]
  },
  {
   "cell_type": "code",
   "execution_count": 14,
   "id": "e0f9192b",
   "metadata": {},
   "outputs": [],
   "source": [
    "# Convert 'activeBuy' to boolean\n",
    "merged_data['activeBuy'] = merged_data['activeBuy'].astype(str).str.lower().map({'true': True, 'false': False}).fillna(False)"
   ]
  },
  {
   "cell_type": "code",
   "execution_count": 15,
   "id": "191b31a4",
   "metadata": {},
   "outputs": [],
   "source": [
    "# Feature Engineering: Classify trades using 'side' and 'positionSide'\n",
    "merged_data['trade_type'] = merged_data['side'] + '_' + merged_data['positionSide']"
   ]
  },
  {
   "cell_type": "code",
   "execution_count": 16,
   "id": "b1faf6c5",
   "metadata": {},
   "outputs": [],
   "source": [
    "# Define metrics calculation functions\n",
    "def calculate_metrics(group):\n",
    "    # Total profit and loss (PnL)\n",
    "    pnl = group['realizedProfit'].sum()\n",
    "    \n",
    "    \n",
    "    # ROI: Total realized profit / Total invested capital\n",
    "    total_invested = group.loc[group['side'] == 'BUY', 'quantity'].sum()\n",
    "    roi = (pnl / total_invested) if total_invested > 0 else 0\n",
    "    \n",
    "    # Maximum Drawdown (MDD)\n",
    "    cumulative_pnl = group['realizedProfit'].cumsum()\n",
    "    running_max = cumulative_pnl.cummax()\n",
    "    drawdown = cumulative_pnl - running_max\n",
    "    mdd = drawdown.min()\n",
    "    \n",
    "    # Sharpe Ratio (Assuming 0 risk-free rate)\n",
    "    mean_pnl = group['realizedProfit'].mean()\n",
    "    std_pnl = group['realizedProfit'].std()\n",
    "    sharpe_ratio = (mean_pnl / std_pnl) if std_pnl > 0 else 0\n",
    "    \n",
    "    # Win Rate and Total Positions\n",
    "    win_positions = (group['realizedProfit'] > 0).sum()\n",
    "    total_positions = len(group)\n",
    "    win_rate = (win_positions / total_positions) if total_positions > 0 else 0\n",
    "    \n",
    "    return pd.Series({\n",
    "        'PnL': pnl,\n",
    "        'ROI': roi,\n",
    "        'Sharpe_Ratio': sharpe_ratio,\n",
    "        'MDD': mdd,\n",
    "        'Win_Rate': win_rate,\n",
    "        'Win_Positions': win_positions,\n",
    "        'Total_Positions': total_positions\n",
    "    })"
   ]
  },
  {
   "cell_type": "code",
   "execution_count": 17,
   "id": "4503625a",
   "metadata": {},
   "outputs": [],
   "source": [
    "# Group by Port_IDs and calculate metrics\n",
    "account_metrics = merged_data.groupby('Port_IDs').apply(calculate_metrics).reset_index()"
   ]
  },
  {
   "cell_type": "code",
   "execution_count": 18,
   "id": "047d9260",
   "metadata": {},
   "outputs": [],
   "source": [
    "# Ranking Algorithm with Weighted Scoring System\n",
    "weights = {'ROI': 0.4, 'Sharpe_Ratio': 0.2, 'Win_Rate': 0.2, 'MDD': -0.1, 'PnL': 0.1}\n",
    "account_metrics['Score'] = (\n",
    "    account_metrics['ROI'] * weights['ROI'] +\n",
    "    account_metrics['Sharpe_Ratio'] * weights['Sharpe_Ratio'] +\n",
    "    account_metrics['Win_Rate'] * weights['Win_Rate'] +\n",
    "    account_metrics['MDD'] * weights['MDD'] +\n",
    "    account_metrics['PnL'] * weights['PnL']\n",
    ")\n",
    "account_metrics['Rank'] = account_metrics['Score'].rank(ascending=False, method='min')\n"
   ]
  },
  {
   "cell_type": "code",
   "execution_count": 19,
   "id": "9218311d",
   "metadata": {},
   "outputs": [
    {
     "name": "stdout",
     "output_type": "stream",
     "text": [
      "                Port_IDs           PnL       ROI  Sharpe_Ratio           MDD  \\\n",
      "96   4020204877254599680  71998.855953  0.006336      0.060748 -21338.051188   \n",
      "75   3999240873283311617  42574.473679  0.010933      0.227505   -300.813848   \n",
      "98   4021669203289716224  26427.331592  0.008121      0.068251  -2537.866629   \n",
      "50   3960874214179953664  19567.471286  0.004592      0.162948  -2234.000000   \n",
      "17   3907081197088384000  18015.997370  0.021915      0.222729  -2060.707122   \n",
      "107  4028701921959171840  17601.401398  0.007986      0.275724   -585.677600   \n",
      "48   3956076827719377409  16790.012238  0.020143      0.099528   -635.050015   \n",
      "62   3986814617275053313  16337.461881  0.016860      0.329787     -2.381947   \n",
      "63   3987739404272887297  12464.606315  0.011167      0.049883  -3386.656094   \n",
      "5    3788465932399412480  13960.966457  0.016537      0.152912  -1772.219440   \n",
      "99   4022565861939831809  14197.577076  0.004693      0.299602   -385.075554   \n",
      "78   4000877324693233921   -836.100559 -0.000165     -0.002327 -14682.679015   \n",
      "125  4031493134338259457   9082.698288  0.002320      0.156114  -3682.109799   \n",
      "35   3942630767220672256   6611.898480  0.010774      0.067980  -6083.726688   \n",
      "27   3931992636670880512  10374.965290  0.011134      0.050796  -1651.131700   \n",
      "93   4017263283405469185   7141.366419  0.002263      0.030090  -4788.433923   \n",
      "84   4008711265867865600  11298.706390  0.006184      0.266290   -509.550000   \n",
      "51   3962024093501274881   9314.494060  0.002878      0.074067  -1828.494702   \n",
      "22   3919174299855478272   1456.371808  0.001264      0.011492  -9684.344584   \n",
      "30   3936410995029308417  10681.514000  0.059557      0.298984      0.000000   \n",
      "\n",
      "     Win_Rate  Win_Positions  Total_Positions        Score  Rank  \n",
      "96   0.329421         1993.0           6050.0  9333.771282   1.0  \n",
      "75   0.523220         2366.0           4522.0  4287.683271   2.0  \n",
      "98   0.313912          528.0           1682.0  2896.599503   3.0  \n",
      "50   0.515684         1233.0           2391.0  2180.284692   4.0  \n",
      "17   0.613971         2540.0           4137.0  2007.846555   5.0  \n",
      "107  0.542940          373.0            687.0  1818.874827   6.0  \n",
      "48   0.515577         2019.0           3916.0  1742.637303   7.0  \n",
      "62   0.782217         2780.0           3554.0  1634.213528   8.0  \n",
      "63   0.228264         1381.0           6050.0  1585.186337   9.0  \n",
      "5    0.446074         1369.0           3069.0  1573.445001  10.0  \n",
      "99   0.527660          372.0            705.0  1458.432592  11.0  \n",
      "78   0.448595         2714.0           6050.0  1384.747033  12.0  \n",
      "125  0.361567          683.0           1889.0  1276.585273  13.0  \n",
      "35   0.382974         1903.0           4969.0  1269.657017  14.0  \n",
      "27   0.401653         2430.0           6050.0  1202.704642  15.0  \n",
      "93   0.336198         2034.0           6050.0  1193.054197  16.0  \n",
      "84   0.421320          166.0            394.0  1180.965634  17.0  \n",
      "51   0.264729          337.0           1273.0  1114.367787  18.0  \n",
      "22   0.480663          609.0           1267.0  1114.170576  19.0  \n",
      "30   0.300000            6.0             20.0  1068.295019  20.0  \n"
     ]
    }
   ],
   "source": [
    "# Get the top 20 accounts\n",
    "top_20_accounts = account_metrics.sort_values(by='Rank').head(20)\n",
    "print(top_20_accounts)"
   ]
  },
  {
   "cell_type": "code",
   "execution_count": 24,
   "id": "9b4bbb28",
   "metadata": {},
   "outputs": [],
   "source": [
    "# Save metrics and top accounts to CSV files\n",
    "account_metrics.to_csv(r'C:\\Users\\Dell\\Downloads\\account_metrics.csv', index=False)\n",
    "top_20_accounts.to_csv(r'C:\\Users\\Dell\\Downloads\\top_20_accounts.csv', index=False)"
   ]
  },
  {
   "cell_type": "code",
   "execution_count": 20,
   "id": "596a2905",
   "metadata": {},
   "outputs": [
    {
     "data": {
      "image/png": "[encoded data removed]",
      "text/plain": [
       "<Figure size 720x432 with 1 Axes>"
      ]
     },
     "metadata": {},
     "output_type": "display_data"
    }
   ],
   "source": [
    "# Visualization\n",
    "sns.set(style=\"whitegrid\")\n",
    "\n",
    "# ROI Distribution\n",
    "plt.figure(figsize=(10, 6))\n",
    "sns.histplot(account_metrics['ROI'], bins=30, kde=True, color='blue')\n",
    "plt.title('ROI Distribution Across Accounts')\n",
    "plt.xlabel('ROI')\n",
    "plt.ylabel('Frequency')\n",
    "plt.grid(True)\n",
    "plt.show()"
   ]
  },
  {
   "cell_type": "code",
   "execution_count": 21,
   "id": "a774e719",
   "metadata": {},
   "outputs": [
    {
     "data": {
      "image/png": "[encoded data removed]",
      "text/plain": [
       "<Figure size 864x432 with 2 Axes>"
      ]
     },
     "metadata": {},
     "output_type": "display_data"
    }
   ],
   "source": [
    "# Top 20 Accounts - ROI and PnL\n",
    "plt.figure(figsize=(12, 6))\n",
    "sns.barplot(data=top_20_accounts, x='Rank', y='ROI', color='green', label='ROI')\n",
    "plt.ylabel('ROI')\n",
    "plt.twinx()\n",
    "sns.barplot(data=top_20_accounts, x='Rank', y='PnL', color='orange', alpha=0.6, label='PnL')\n",
    "plt.ylabel('PnL')\n",
    "plt.title('Top 20 Accounts - ROI and PnL')\n",
    "plt.legend(loc='upper left')\n",
    "plt.show()"
   ]
  },
  {
   "cell_type": "code",
   "execution_count": 22,
   "id": "c9d7b31b",
   "metadata": {},
   "outputs": [
    {
     "data": {
      "image/png": "[encoded data removed]",
      "text/plain": [
       "<Figure size 720x432 with 1 Axes>"
      ]
     },
     "metadata": {},
     "output_type": "display_data"
    }
   ],
   "source": [
    "# Win Rate vs Sharpe Ratio for Top 20\n",
    "plt.figure(figsize=(10, 6))\n",
    "sns.scatterplot(data=top_20_accounts, x='Win_Rate', y='Sharpe_Ratio', size='Total_Positions', hue='ROI', palette='viridis', sizes=(20, 200))\n",
    "plt.title('Win Rate vs Sharpe Ratio for Top 20 Accounts')\n",
    "plt.xlabel('Win Rate')\n",
    "plt.ylabel('Sharpe Ratio')\n",
    "plt.legend(title='ROI', bbox_to_anchor=(1.05, 1), loc='upper left')\n",
    "plt.grid(True)\n",
    "plt.show()\n"
   ]
  },
  {
   "cell_type": "markdown",
   "id": "8e6924fe",
   "metadata": {},
   "source": [
    "## "
   ]
  }
 ],
 "metadata": {
  "kernelspec": {
   "display_name": "Python 3 (ipykernel)",
   "language": "python",
   "name": "python3"
  },
  "language_info": {
   "codemirror_mode": {
    "name": "ipython",
    "version": 3
   },
   "file_extension": ".py",
   "mimetype": "text/x-python",
   "name": "python",
   "nbconvert_exporter": "python",
   "pygments_lexer": "ipython3",
   "version": "3.9.7"
  }
 },
 "nbformat": 4,
 "nbformat_minor": 5
}
